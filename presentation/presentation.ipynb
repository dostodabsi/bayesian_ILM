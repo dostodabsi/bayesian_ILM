{
 "metadata": {
  "language": "Julia",
  "name": "",
  "signature": "sha256:c2653da5e4d307a16d7439fb7940c453ce4edcf2f07fa8fcadcb08fea0bc9d7c"
 },
 "nbformat": 3,
 "nbformat_minor": 0,
 "worksheets": [
  {
   "cells": [
    {
     "cell_type": "heading",
     "level": 1,
     "metadata": {},
     "source": [
      "**Bayesian Iterated Learning Model**"
     ]
    },
    {
     "cell_type": "markdown",
     "metadata": {},
     "source": [
      "- Tools\n",
      "- Introduction\n",
      "  - Markov Chains\n",
      "  - Bayes' Rule\n",
      "  - Simple Simulation\n",
      "- Main Part\n",
      "  - 1) \n",
      "- Main Simulation II\n",
      "- Conclusion"
     ]
    },
    {
     "cell_type": "code",
     "collapsed": false,
     "input": [],
     "language": "python",
     "metadata": {},
     "outputs": []
    }
   ],
   "metadata": {}
  }
 ]
}