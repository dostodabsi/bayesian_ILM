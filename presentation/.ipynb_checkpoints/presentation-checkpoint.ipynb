{
 "metadata": {
  "language": "Julia",
  "name": "",
  "signature": "sha256:04857e41578f8d7517b3c226e95dfc619e8f12ce914c315b610a824a21dc6ebd"
 },
 "nbformat": 3,
 "nbformat_minor": 0,
 "worksheets": [
  {
   "cells": [
    {
     "cell_type": "heading",
     "level": 1,
     "metadata": {},
     "source": [
      "**Bayesian Iterated Learning Model**"
     ]
    },
    {
     "cell_type": "markdown",
     "metadata": {},
     "source": [
      "- Tools\n",
      "- Introduction\n",
      "  - Markov Chains\n",
      "  - Bayes' Rule\n",
      "- Simple Simulation\n",
      "- Main Simulation\n",
      "- Conclusion"
     ]
    },
    {
     "cell_type": "heading",
     "level": 1,
     "metadata": {},
     "source": [
      "Bayes Rule"
     ]
    },
    {
     "cell_type": "markdown",
     "metadata": {},
     "source": [
      "**Components of a Bayesian inference algorithm are:**\n",
      " - The hypotheses and the data likelihoods which accompany them\n",
      " - The prior probability of each hypothesis: the bias\n",
      " - The posterior probability of each hypothesis"
     ]
    },
    {
     "cell_type": "code",
     "collapsed": false,
     "input": [
      "s = \"\"\"<table>\n",
      "<tr>\n",
      "<th>Hypothesis 1</th>\n",
      "<th>Hypothesis 2</th>\n",
      "<th>Hypothesis 3</th>\n",
      "</tr>\n",
      "<tr>\n",
      "<td>row 1, cell 1</td>\n",
      "<td>row 1, cell 2</td>\n",
      "<td>row 1, cell 2</td>\n",
      "</tr>\n",
      "<tr>\n",
      "<td>row 2, cell 1</td>\n",
      "<td>row 2, cell 2</td>\n",
      "<td>row 1, cell 2</td>\n",
      "</tr>\n",
      "<tr>\n",
      "<td>row 2, cell 1</td>\n",
      "<td>row 2, cell 2</td>\n",
      "<td>row 1, cell 2</td>\n",
      "</tr>\n",
      "</table>\"\"\""
     ],
     "language": "python",
     "metadata": {},
     "outputs": [
      {
       "metadata": {},
       "output_type": "pyout",
       "prompt_number": 48,
       "text": [
        "\"<table>\\n<tr>\\n<th>Hypothesis 1</th>\\n<th>Hypothesis 2</th>\\n<th>Hypothesis 3</th>\\n</tr>\\n<tr>\\n<td>row 1, cell 1</td>\\n<td>row 1, cell 2</td>\\n<td>row 1, cell 2</td>\\n</tr>\\n<tr>\\n<td>row 2, cell 1</td>\\n<td>row 2, cell 2</td>\\n<td>row 1, cell 2</td>\\n</tr>\\n<tr>\\n<td>row 2, cell 1</td>\\n<td>row 2, cell 2</td>\\n<td>row 1, cell 2</td>\\n</tr>\\n</table>\""
       ]
      }
     ],
     "prompt_number": 48
    },
    {
     "cell_type": "code",
     "collapsed": false,
     "input": [
      "display(\"text/html\", s)"
     ],
     "language": "python",
     "metadata": {},
     "outputs": [
      {
       "html": [
        "<table>\n",
        "<tr>\n",
        "<th>Hypothesis 1</th>\n",
        "<th>Hypothesis 2</th>\n",
        "<th>Hypothesis 3</th>\n",
        "</tr>\n",
        "<tr>\n",
        "<td>row 1, cell 1</td>\n",
        "<td>row 1, cell 2</td>\n",
        "<td>row 1, cell 2</td>\n",
        "</tr>\n",
        "<tr>\n",
        "<td>row 2, cell 1</td>\n",
        "<td>row 2, cell 2</td>\n",
        "<td>row 1, cell 2</td>\n",
        "</tr>\n",
        "<tr>\n",
        "<td>row 2, cell 1</td>\n",
        "<td>row 2, cell 2</td>\n",
        "<td>row 1, cell 2</td>\n",
        "</tr>\n",
        "</table>"
       ],
       "metadata": {},
       "output_type": "display_data"
      }
     ],
     "prompt_number": 49
    },
    {
     "cell_type": "code",
     "collapsed": false,
     "input": [],
     "language": "python",
     "metadata": {},
     "outputs": [],
     "prompt_number": 34
    },
    {
     "cell_type": "code",
     "collapsed": false,
     "input": [],
     "language": "python",
     "metadata": {},
     "outputs": [],
     "prompt_number": 35
    },
    {
     "cell_type": "code",
     "collapsed": false,
     "input": [],
     "language": "python",
     "metadata": {},
     "outputs": []
    }
   ],
   "metadata": {}
  }
 ]
}